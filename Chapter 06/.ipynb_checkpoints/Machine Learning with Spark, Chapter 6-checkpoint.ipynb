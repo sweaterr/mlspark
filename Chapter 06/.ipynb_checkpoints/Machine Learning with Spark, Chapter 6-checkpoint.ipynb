{
 "metadata": {
  "name": "",
  "signature": "sha256:c4c31c2b338db98edaa6a6dbdf867efe0a8e86dca2ed829d97450b3c182cbc78"
 },
 "nbformat": 3,
 "nbformat_minor": 0,
 "worksheets": [
  {
   "cells": [
    {
     "cell_type": "markdown",
     "metadata": {},
     "source": [
      "# Extracting Features from the Bike Sharing Dataset"
     ]
    },
    {
     "cell_type": "code",
     "collapsed": false,
     "input": [
      "%pylab inline"
     ],
     "language": "python",
     "metadata": {},
     "outputs": [
      {
       "output_type": "stream",
       "stream": "stdout",
       "text": [
        "Populating the interactive namespace from numpy and matplotlib\n"
       ]
      }
     ],
     "prompt_number": 1
    },
    {
     "cell_type": "code",
     "collapsed": false,
     "input": [
      "# first remove the headers by using the 'sed' command:\n",
      "# sed 1d hour.csv > hour_noheader.csv\n",
      "path = \"/PATH/hour_noheader.csv\"\n",
      "raw_data = sc.textFile(path)\n",
      "num_data = raw_data.count()\n",
      "records = raw_data.map(lambda x: x.split(\",\"))\n",
      "first = records.first()\n",
      "print first\n",
      "print num_data"
     ],
     "language": "python",
     "metadata": {},
     "outputs": [
      {
       "output_type": "stream",
       "stream": "stdout",
       "text": [
        "[u'1', u'2011-01-01', u'1', u'0', u'1', u'0', u'0', u'6', u'0', u'1', u'0.24', u'0.2879', u'0.81', u'0', u'3', u'13', u'16']\n",
        "17379\n"
       ]
      }
     ],
     "prompt_number": 2
    },
    {
     "cell_type": "markdown",
     "metadata": {},
     "source": [
      "## Extract the variables we want to keep\n",
      "\n",
      "_All variables:_\n",
      "\n",
      "`instant,dteday,season,yr,mnth,hr,holiday,weekday,workingday,weathersit,temp,atemp,hum,windspeed,casual,registered,cnt`\n",
      "\n",
      "_Variables to keep:_\n",
      "\n",
      "`season,yr,mnth,hr,holiday,weekday,workingday,weathersit,temp,atemp,hum,windspeed,cnt`"
     ]
    },
    {
     "cell_type": "markdown",
     "metadata": {},
     "source": [
      "## Create feature mappings for categorical features"
     ]
    },
    {
     "cell_type": "code",
     "collapsed": false,
     "input": [
      "# cache the dataset to speed up subsequent operations\n",
      "records.cache()\n",
      "# function to get the categorical feature mapping for a given variable column\n",
      "def get_mapping(rdd, idx):\n",
      "    return rdd.map(lambda fields: fields[idx]).distinct().zipWithIndex().collectAsMap()\n",
      "\n",
      "# we want to extract the feature mappings for columns 2 - 9\n",
      "# try it out on column 2 first\n",
      "print \"Mapping of first categorical feasture column: %s\" % get_mapping(records, 2)"
     ],
     "language": "python",
     "metadata": {},
     "outputs": [
      {
       "output_type": "stream",
       "stream": "stdout",
       "text": [
        "Mapping of first categorical feasture column: {u'1': 0, u'3': 1, u'2': 2, u'4': 3}\n"
       ]
      }
     ],
     "prompt_number": 3
    },
    {
     "cell_type": "code",
     "collapsed": false,
     "input": [
      "# extract all the catgorical mappings\n",
      "mappings = [get_mapping(records, i) for i in range(2,10)]\n",
      "cat_len = sum(map(len, mappings))\n",
      "num_len = len(records.first()[11:15])\n",
      "total_len = num_len + cat_len\n",
      "print \"Feature vector length for categorical features: %d\" % cat_len \n",
      "print \"Feature vector length for numerical features: %d\" % num_len\n",
      "print \"Total feature vector length: %d\" % total_len"
     ],
     "language": "python",
     "metadata": {},
     "outputs": [
      {
       "output_type": "stream",
       "stream": "stdout",
       "text": [
        "Feature vector length for categorical features: 57\n",
        "Feature vector length for numerical features: 4\n",
        "Total feature vector length: 61\n"
       ]
      }
     ],
     "prompt_number": 4
    },
    {
     "cell_type": "markdown",
     "metadata": {},
     "source": [
      "## Create Feature Vectors"
     ]
    },
    {
     "cell_type": "code",
     "collapsed": false,
     "input": [
      "# required imports\n",
      "from pyspark.mllib.regression import LabeledPoint\n",
      "import numpy as np\n",
      "\n",
      "# function to use the feature mappings to extract binary feature vectors, and concatenate with\n",
      "# the numerical feature vectors\n",
      "def extract_features(record):\n",
      "    cat_vec = np.zeros(cat_len)\n",
      "    i = 0\n",
      "    step = 0\n",
      "    for field in record[2:9]:\n",
      "        m = mappings[i]\n",
      "        idx = m[field]\n",
      "        cat_vec[idx + step] = 1\n",
      "        i = i + 1\n",
      "        step = step + len(m)\n",
      "    \n",
      "    num_vec = np.array([float(field) for field in record[10:14]])\n",
      "    return np.concatenate((cat_vec, num_vec))\n",
      "\n",
      "# function to extract the label from the last column\n",
      "def extract_label(record):\n",
      "    return float(record[-1])\n",
      "\n",
      "data = records.map(lambda r: LabeledPoint(extract_label(r), extract_features(r)))\n",
      "first_point = data.first()\n",
      "print \"Raw data: \" + str(first[2:])\n",
      "print \"Label: \" + str(first_point.label)\n",
      "print \"Linear Model feature vector:\\n\" + str(first_point.features)\n",
      "print \"Linear Model feature vector length: \" + str(len(first_point.features))"
     ],
     "language": "python",
     "metadata": {},
     "outputs": [
      {
       "output_type": "stream",
       "stream": "stdout",
       "text": [
        "Raw data: [u'1', u'0', u'1', u'0', u'0', u'6', u'0', u'1', u'0.24', u'0.2879', u'0.81', u'0', u'3', u'13', u'16']\n",
        "Label: 16.0\n",
        "Linear Model feature vector:\n",
        "[1.0,0.0,0.0,0.0,0.0,1.0,0.0,1.0,0.0,0.0,0.0,0.0,0.0,0.0,0.0,0.0,0.0,0.0,0.0,0.0,0.0,0.0,0.0,0.0,0.0,0.0,0.0,0.0,0.0,0.0,0.0,0.0,0.0,0.0,0.0,0.0,1.0,0.0,0.0,0.0,0.0,0.0,0.0,1.0,0.0,0.0,0.0,0.0,0.0,0.0,1.0,0.0,1.0,0.0,0.0,0.0,0.0,0.24,0.2879,0.81,0.0]\n",
        "Linear Model feature vector length: 61\n"
       ]
      }
     ],
     "prompt_number": 5
    },
    {
     "cell_type": "code",
     "collapsed": false,
     "input": [
      "# we need a separate set of feature vectors for the decision tree\n",
      "def extract_features_dt(record):\n",
      "    return np.array(map(float, record[2:14]))\n",
      "    \n",
      "data_dt = records.map(lambda r: LabeledPoint(extract_label(r), extract_features_dt(r)))\n",
      "first_point_dt = data_dt.first()\n",
      "print \"Decision Tree feature vector: \" + str(first_point_dt.features)\n",
      "print \"Decision Tree feature vector length: \" + str(len(first_point_dt.features))"
     ],
     "language": "python",
     "metadata": {},
     "outputs": [
      {
       "output_type": "stream",
       "stream": "stdout",
       "text": [
        "Decision Tree feature vector: [1.0,0.0,1.0,0.0,0.0,6.0,0.0,1.0,0.24,0.2879,0.81,0.0]\n",
        "Decision Tree feature vector length: 12\n"
       ]
      }
     ],
     "prompt_number": 6
    },
    {
     "cell_type": "markdown",
     "metadata": {},
     "source": [
      "# Training a Regression Model"
     ]
    },
    {
     "cell_type": "code",
     "collapsed": false,
     "input": [
      "from pyspark.mllib.regression import LinearRegressionWithSGD\n",
      "from pyspark.mllib.tree import DecisionTree\n",
      "help(LinearRegressionWithSGD.train)"
     ],
     "language": "python",
     "metadata": {},
     "outputs": [
      {
       "output_type": "stream",
       "stream": "stdout",
       "text": [
        "Help on method train in module pyspark.mllib.regression:\n",
        "\n",
        "train(cls, data, iterations=100, step=1.0, miniBatchFraction=1.0, initialWeights=None, regParam=0.0, regType=None, intercept=False) method of __builtin__.type instance\n",
        "    Train a linear regression model on the given data.\n",
        "    \n",
        "    :param data:              The training data.\n",
        "    :param iterations:        The number of iterations (default: 100).\n",
        "    :param step:              The step parameter used in SGD\n",
        "                              (default: 1.0).\n",
        "    :param miniBatchFraction: Fraction of data to be used for each SGD\n",
        "                              iteration.\n",
        "    :param initialWeights:    The initial weights (default: None).\n",
        "    :param regParam:          The regularizer parameter (default: 0.0).\n",
        "    :param regType:           The type of regularizer used for training\n",
        "                              our model.\n",
        "    \n",
        "                              :Allowed values:\n",
        "                                 - \"l1\" for using L1 regularization (lasso),\n",
        "                                 - \"l2\" for using L2 regularization (ridge),\n",
        "                                 - None for no regularization\n",
        "    \n",
        "                                 (default: None)\n",
        "    \n",
        "    @param intercept:         Boolean parameter which indicates the use\n",
        "                              or not of the augmented representation for\n",
        "                              training data (i.e. whether bias features\n",
        "                              are activated or not).\n",
        "\n"
       ]
      }
     ],
     "prompt_number": 7
    },
    {
     "cell_type": "code",
     "collapsed": false,
     "input": [
      "help(DecisionTree.trainRegressor)"
     ],
     "language": "python",
     "metadata": {},
     "outputs": [
      {
       "output_type": "stream",
       "stream": "stdout",
       "text": [
        "Help on method trainRegressor in module pyspark.mllib.tree:\n",
        "\n",
        "trainRegressor(cls, data, categoricalFeaturesInfo, impurity='variance', maxDepth=5, maxBins=32, minInstancesPerNode=1, minInfoGain=0.0) method of __builtin__.type instance\n",
        "    Train a DecisionTreeModel for regression.\n",
        "    \n",
        "    :param data: Training data: RDD of LabeledPoint.\n",
        "                 Labels are real numbers.\n",
        "    :param categoricalFeaturesInfo: Map from categorical feature index\n",
        "                                    to number of categories.\n",
        "                                    Any feature not in this map\n",
        "                                    is treated as continuous.\n",
        "    :param impurity: Supported values: \"variance\"\n",
        "    :param maxDepth: Max depth of tree.\n",
        "                     E.g., depth 0 means 1 leaf node.\n",
        "                     Depth 1 means 1 internal node + 2 leaf nodes.\n",
        "    :param maxBins: Number of bins used for finding splits at each node.\n",
        "    :param minInstancesPerNode: Min number of instances required at child\n",
        "                                nodes to create the parent split\n",
        "    :param minInfoGain: Min info gain required to create a split\n",
        "    :return: DecisionTreeModel\n",
        "    \n",
        "    Example usage:\n",
        "    \n",
        "    >>> from pyspark.mllib.regression import LabeledPoint\n",
        "    >>> from pyspark.mllib.tree import DecisionTree\n",
        "    >>> from pyspark.mllib.linalg import SparseVector\n",
        "    >>>\n",
        "    >>> sparse_data = [\n",
        "    ...     LabeledPoint(0.0, SparseVector(2, {0: 0.0})),\n",
        "    ...     LabeledPoint(1.0, SparseVector(2, {1: 1.0})),\n",
        "    ...     LabeledPoint(0.0, SparseVector(2, {0: 0.0})),\n",
        "    ...     LabeledPoint(1.0, SparseVector(2, {1: 2.0}))\n",
        "    ... ]\n",
        "    >>>\n",
        "    >>> model = DecisionTree.trainRegressor(sc.parallelize(sparse_data), {})\n",
        "    >>> model.predict(SparseVector(2, {1: 1.0}))\n",
        "    1.0\n",
        "    >>> model.predict(SparseVector(2, {1: 0.0}))\n",
        "    0.0\n",
        "    >>> rdd = sc.parallelize([[0.0, 1.0], [0.0, 0.0]])\n",
        "    >>> model.predict(rdd).collect()\n",
        "    [1.0, 0.0]\n",
        "\n"
       ]
      }
     ],
     "prompt_number": 8
    },
    {
     "cell_type": "markdown",
     "metadata": {},
     "source": [
      "## Train a Regression Model on the Bike Sharing Dataset"
     ]
    },
    {
     "cell_type": "code",
     "collapsed": false,
     "input": [
      "linear_model = LinearRegressionWithSGD.train(data, iterations=10, step=0.1, intercept=False)\n",
      "true_vs_predicted = data.map(lambda p: (p.label, linear_model.predict(p.features)))\n",
      "print \"Linear Model predictions: \" + str(true_vs_predicted.take(5))"
     ],
     "language": "python",
     "metadata": {},
     "outputs": [
      {
       "output_type": "stream",
       "stream": "stdout",
       "text": [
        "Linear Model predictions: [(16.0, 119.30920003093597), (40.0, 116.95463511937379), (32.0, 116.57294610647752), (13.0, 116.43535423855656), (1.0, 116.221247828503)]\n"
       ]
      }
     ],
     "prompt_number": 9
    },
    {
     "cell_type": "code",
     "collapsed": false,
     "input": [
      "# we pass in an mepty mapping for categorical feature size {}\n",
      "dt_model = DecisionTree.trainRegressor(data_dt, {})\n",
      "preds = dt_model.predict(data_dt.map(lambda p: p.features))\n",
      "actual = data.map(lambda p: p.label)\n",
      "true_vs_predicted_dt = actual.zip(preds)\n",
      "print \"Decision Tree predictions: \" + str(true_vs_predicted_dt.take(5))\n",
      "print \"Decision Tree depth: \" + str(dt_model.depth())\n",
      "print \"Decision Tree number of nodes: \" + str(dt_model.numNodes())"
     ],
     "language": "python",
     "metadata": {},
     "outputs": [
      {
       "output_type": "stream",
       "stream": "stdout",
       "text": [
        "Decision Tree predictions: [(16.0, 54.913223140495866), (40.0, 54.913223140495866), (32.0, 53.171052631578945), (13.0, 14.284023668639053), (1.0, 14.284023668639053)]\n",
        "Decision Tree depth: 5\n",
        "Decision Tree number of nodes: 63\n"
       ]
      }
     ],
     "prompt_number": 10
    },
    {
     "cell_type": "markdown",
     "metadata": {},
     "source": [
      "## Perfomance Metrics"
     ]
    },
    {
     "cell_type": "code",
     "collapsed": false,
     "input": [
      "# set up performance metrics functions \n",
      "\n",
      "def squared_error(actual, pred):\n",
      "    return (pred - actual)**2\n",
      "\n",
      "def abs_error(actual, pred):\n",
      "    return np.abs(pred - actual)\n",
      "\n",
      "def squared_log_error(pred, actual):\n",
      "    return (np.log(pred + 1) - np.log(actual + 1))**2"
     ],
     "language": "python",
     "metadata": {},
     "outputs": [],
     "prompt_number": 11
    },
    {
     "cell_type": "markdown",
     "metadata": {},
     "source": [
      "### Linear Model"
     ]
    },
    {
     "cell_type": "code",
     "collapsed": false,
     "input": [
      "# compute performance metrics for linear model\n",
      "mse = true_vs_predicted.map(lambda (t, p): squared_error(t, p)).mean()\n",
      "mae = true_vs_predicted.map(lambda (t, p): abs_error(t, p)).mean()\n",
      "rmsle = np.sqrt(true_vs_predicted.map(lambda (t, p): squared_log_error(t, p)).mean())\n",
      "print \"Linear Model - Mean Squared Error: %2.4f\" % mse\n",
      "print \"Linear Model - Mean Absolute Error: %2.4f\" % mae\n",
      "print \"Linear Model - Root Mean Squared Log Error: %2.4f\" % rmsle"
     ],
     "language": "python",
     "metadata": {},
     "outputs": [
      {
       "output_type": "stream",
       "stream": "stdout",
       "text": [
        "Linear Model - Mean Squared Error: 28166.3824\n",
        "Linear Model - Mean Absolute Error: 129.4506\n",
        "Linear Model - Root Mean Squared Log Error: 1.4974\n"
       ]
      }
     ],
     "prompt_number": 12
    },
    {
     "cell_type": "markdown",
     "metadata": {},
     "source": [
      "### Decision Tree Model"
     ]
    },
    {
     "cell_type": "code",
     "collapsed": false,
     "input": [
      "# compute performance metrics for decision tree model\n",
      "mse_dt = true_vs_predicted_dt.map(lambda (t, p): squared_error(t, p)).mean()\n",
      "mae_dt = true_vs_predicted_dt.map(lambda (t, p): abs_error(t, p)).mean()\n",
      "rmsle_dt = np.sqrt(true_vs_predicted_dt.map(lambda (t, p): squared_log_error(t, p)).mean())\n",
      "print \"Decision Tree - Mean Squared Error: %2.4f\" % mse_dt\n",
      "print \"Decision Tree - Mean Absolute Error: %2.4f\" % mae_dt\n",
      "print \"Decision Tree - Root Mean Squared Log Error: %2.4f\" % rmsle_dt"
     ],
     "language": "python",
     "metadata": {},
     "outputs": [
      {
       "output_type": "stream",
       "stream": "stdout",
       "text": [
        "Decision Tree - Mean Squared Error: 11560.7978\n",
        "Decision Tree - Mean Absolute Error: 71.0969\n",
        "Decision Tree - Root Mean Squared Log Error: 0.6259\n"
       ]
      }
     ],
     "prompt_number": 13
    },
    {
     "cell_type": "markdown",
     "metadata": {},
     "source": [
      "#### Using the categorical feature mapping for Decision Tree"
     ]
    },
    {
     "cell_type": "code",
     "collapsed": false,
     "input": [
      "# we create the categorical feature mapping for decision trees\n",
      "cat_features = dict([(i - 2, len(get_mapping(records, i)) + 1) for i in range(2,10)])\n",
      "print \"Categorical feature size mapping %s\" % cat_features\n",
      "# train the model again\n",
      "dt_model_2 = DecisionTree.trainRegressor(data_dt, categoricalFeaturesInfo=cat_features)\n",
      "preds_2 = dt_model_2.predict(data_dt.map(lambda p: p.features))\n",
      "actual_2 = data.map(lambda p: p.label)\n",
      "true_vs_predicted_dt_2 = actual_2.zip(preds_2)\n",
      "# compute performance metrics for decision tree model\n",
      "mse_dt_2 = true_vs_predicted_dt_2.map(lambda (t, p): squared_error(t, p)).mean()\n",
      "mae_dt_2 = true_vs_predicted_dt_2.map(lambda (t, p): abs_error(t, p)).mean()\n",
      "rmsle_dt_2 = np.sqrt(true_vs_predicted_dt_2.map(lambda (t, p): squared_log_error(t, p)).mean())\n",
      "print \"Decision Tree - Mean Squared Error: %2.4f\" % mse_dt_2\n",
      "print \"Decision Tree - Mean Absolute Error: %2.4f\" % mae_dt_2\n",
      "print \"Decision Tree - Root Mean Squared Log Error: %2.4f\" % rmsle_dt_2"
     ],
     "language": "python",
     "metadata": {},
     "outputs": [
      {
       "output_type": "stream",
       "stream": "stdout",
       "text": [
        "Categorical feature size mapping {0: 5, 1: 3, 2: 13, 3: 25, 4: 3, 5: 8, 6: 3, 7: 5}\n",
        "Decision Tree - Mean Squared Error: 7912.5642"
       ]
      },
      {
       "output_type": "stream",
       "stream": "stdout",
       "text": [
        "\n",
        "Decision Tree - Mean Absolute Error: 59.4409\n",
        "Decision Tree - Root Mean Squared Log Error: 0.6192\n"
       ]
      }
     ],
     "prompt_number": 14
    },
    {
     "cell_type": "markdown",
     "metadata": {},
     "source": [
      "# Transforming the Target Variable\n",
      "## Distributon of Raw Target"
     ]
    },
    {
     "cell_type": "code",
     "collapsed": false,
     "input": [
      "targets = records.map(lambda r: float(r[-1])).collect()\n",
      "hist(targets, bins=40, color='lightblue', normed=True)\n",
      "fig = matplotlib.pyplot.gcf()\n",
      "fig.set_size_inches(16, 10)"
     ],
     "language": "python",
     "metadata": {},
     "outputs": [
      {
       "metadata": {},
       "output_type": "display_data",
       "png": "[encoded data removed]",
       "text": [
        "<matplotlib.figure.Figure at 0x108f55350>"
       ]
      }
     ],
     "prompt_number": 15
    },
    {
     "cell_type": "markdown",
     "metadata": {},
     "source": [
      "## Distribution of Log Transformed Target"
     ]
    },
    {
     "cell_type": "code",
     "collapsed": false,
     "input": [
      "log_targets = records.map(lambda r: np.log(float(r[-1]))).collect()\n",
      "hist(log_targets, bins=40, color='lightblue', normed=True)\n",
      "fig = matplotlib.pyplot.gcf()\n",
      "fig.set_size_inches(16, 10)"
     ],
     "language": "python",
     "metadata": {},
     "outputs": [
      {
       "metadata": {},
       "output_type": "display_data",
       "png": "[encoded data removed]",
       "text": [
        "<matplotlib.figure.Figure at 0x108f28d10>"
       ]
      }
     ],
     "prompt_number": 16
    },
    {
     "cell_type": "markdown",
     "metadata": {},
     "source": [
      "## Distribution of Square-root Transformed target"
     ]
    },
    {
     "cell_type": "code",
     "collapsed": false,
     "input": [
      "sqrt_targets = records.map(lambda r: np.sqrt(float(r[-1]))).collect()\n",
      "hist(sqrt_targets, bins=40, color='lightblue', normed=True)\n",
      "fig = matplotlib.pyplot.gcf()\n",
      "fig.set_size_inches(16, 10)"
     ],
     "language": "python",
     "metadata": {},
     "outputs": [
      {
       "metadata": {},
       "output_type": "display_data",
       "png": "[encoded data removed]",
       "text": [
        "<matplotlib.figure.Figure at 0x109f26150>"
       ]
      }
     ],
     "prompt_number": 17
    },
    {
     "cell_type": "markdown",
     "metadata": {},
     "source": [
      "## Impact of Training on Log Transformed Targets"
     ]
    },
    {
     "cell_type": "code",
     "collapsed": false,
     "input": [
      "# train a linear model on log-transformed targets\n",
      "data_log = data.map(lambda lp: LabeledPoint(np.log(lp.label), lp.features))\n",
      "model_log = LinearRegressionWithSGD.train(data_log, iterations=10, step=0.1)\n",
      "\n",
      "true_vs_predicted_log = data_log.map(lambda p: (np.exp(p.label), np.exp(model_log.predict(p.features))))\n",
      "\n",
      "mse_log = true_vs_predicted_log.map(lambda (t, p): squared_error(t, p)).mean()\n",
      "mae_log = true_vs_predicted_log.map(lambda (t, p): abs_error(t, p)).mean()\n",
      "rmsle_log = np.sqrt(true_vs_predicted_log.map(lambda (t, p): squared_log_error(t, p)).mean())\n",
      "print \"Mean Squared Error: %2.4f\" % mse_log\n",
      "print \"Mean Absolute Error: %2.4f\" % mae_log\n",
      "print \"Root Mean Squared Log Error: %2.4f\" % rmsle_log\n",
      "print \"Non log-transformed predictions:\\n\" + str(true_vs_predicted.take(3))\n",
      "print \"Log-transformed predictions:\\n\" + str(true_vs_predicted_log.take(3))"
     ],
     "language": "python",
     "metadata": {},
     "outputs": [
      {
       "output_type": "stream",
       "stream": "stdout",
       "text": [
        "Mean Squared Error: 38606.0875\n",
        "Mean Absolute Error: 135.2726\n",
        "Root Mean Squared Log Error: 1.3516\n",
        "Non log-transformed predictions:\n",
        "[(16.0, 119.30920003093597), (40.0, 116.95463511937379), (32.0, 116.5729461064775)]\n",
        "Log-transformed predictions:\n",
        "[(15.999999999999998, 45.860944832109993), (40.0, 43.255903592233274), (32.0, 42.311306147884252)]\n"
       ]
      }
     ],
     "prompt_number": 18
    },
    {
     "cell_type": "code",
     "collapsed": false,
     "input": [
      "# train a decision tree model on log-transformed targets\n",
      "data_dt_log = data_dt.map(lambda lp: LabeledPoint(np.log(lp.label), lp.features))\n",
      "dt_model_log = DecisionTree.trainRegressor(data_dt_log, {})\n",
      "\n",
      "preds_log = dt_model_log.predict(data_dt_log.map(lambda p: p.features))\n",
      "actual_log = data_dt_log.map(lambda p: p.label)\n",
      "true_vs_predicted_dt_log = actual_log.zip(preds_log).map(lambda (t, p): (np.exp(t), np.exp(p)))\n",
      "\n",
      "mse_log_dt = true_vs_predicted_dt_log.map(lambda (t, p): squared_error(t, p)).mean()\n",
      "mae_log_dt = true_vs_predicted_dt_log.map(lambda (t, p): abs_error(t, p)).mean()\n",
      "rmsle_log_dt = np.sqrt(true_vs_predicted_dt_log.map(lambda (t, p): squared_log_error(t, p)).mean())\n",
      "print \"Mean Squared Error: %2.4f\" % mse_log_dt\n",
      "print \"Mean Absolute Error: %2.4f\" % mae_log_dt\n",
      "print \"Root Mean Squared Log Error: %2.4f\" % rmsle_log_dt\n",
      "print \"Non log-transformed predictions:\\n\" + str(true_vs_predicted_dt.take(3))\n",
      "print \"Log-transformed predictions:\\n\" + str(true_vs_predicted_dt_log.take(3))"
     ],
     "language": "python",
     "metadata": {},
     "outputs": [
      {
       "output_type": "stream",
       "stream": "stdout",
       "text": [
        "Mean Squared Error: 14781.5760\n",
        "Mean Absolute Error: 76.4131\n",
        "Root Mean Squared Log Error: 0.6406\n",
        "Non log-transformed predictions:\n",
        "[(16.0, 54.913223140495866), (40.0, 54.913223140495866), (32.0, 53.171052631578945)]"
       ]
      },
      {
       "output_type": "stream",
       "stream": "stdout",
       "text": [
        "\n",
        "Log-transformed predictions:\n",
        "[(15.999999999999998, 37.530779787154508), (40.0, 37.530779787154508), (32.0, 7.2797070993907287)]"
       ]
      },
      {
       "output_type": "stream",
       "stream": "stdout",
       "text": [
        "\n"
       ]
      }
     ],
     "prompt_number": 19
    },
    {
     "cell_type": "markdown",
     "metadata": {},
     "source": [
      "# Cross-validation\n",
      "## Creating Training and Test Sets"
     ]
    },
    {
     "cell_type": "code",
     "collapsed": false,
     "input": [
      "# create training and testing sets for linear model\n",
      "data_with_idx = data.zipWithIndex().map(lambda (k, v): (v, k))\n",
      "test = data_with_idx.sample(False, 0.2, 42)\n",
      "train = data_with_idx.subtractByKey(test)\n",
      "\n",
      "train_data = train.map(lambda (idx, p): p)\n",
      "test_data = test.map(lambda (idx, p) : p)\n",
      "\n",
      "train_size = train_data.count()\n",
      "test_size = test_data.count()\n",
      "print \"Training data size: %d\" % train_size\n",
      "print \"Test data size: %d\" % test_size\n",
      "print \"Total data size: %d \" % num_data\n",
      "print \"Train + Test size : %d\" % (train_size + test_size)"
     ],
     "language": "python",
     "metadata": {},
     "outputs": [
      {
       "output_type": "stream",
       "stream": "stdout",
       "text": [
        "Training data size: 13934\n",
        "Test data size: 3445\n",
        "Total data size: 17379 \n",
        "Train + Test size : 17379\n"
       ]
      }
     ],
     "prompt_number": 20
    },
    {
     "cell_type": "code",
     "collapsed": false,
     "input": [
      "# create training and testing sets for decision tree\n",
      "data_with_idx_dt = data_dt.zipWithIndex().map(lambda (k, v): (v, k))\n",
      "test_dt = data_with_idx_dt.sample(False, 0.2, 42)\n",
      "train_dt = data_with_idx_dt.subtractByKey(test_dt)\n",
      "\n",
      "train_data_dt = train_dt.map(lambda (idx, p): p)\n",
      "test_data_dt = test_dt.map(lambda (idx, p) : p)"
     ],
     "language": "python",
     "metadata": {},
     "outputs": [],
     "prompt_number": 21
    },
    {
     "cell_type": "markdown",
     "metadata": {},
     "source": [
      "## Evaluating the Impact of Different Parameter Settings for Linear Model"
     ]
    },
    {
     "cell_type": "code",
     "collapsed": false,
     "input": [
      "# create a function to evaluate linear model\n",
      "def evaluate(train, test, iterations, step, regParam, regType, intercept):\n",
      "    model = LinearRegressionWithSGD.train(train, iterations, step, regParam=regParam, regType=regType, intercept=intercept)\n",
      "    tp = test.map(lambda p: (p.label, model.predict(p.features)))\n",
      "    rmsle = np.sqrt(tp.map(lambda (t, p): squared_log_error(t, p)).mean())\n",
      "    return rmsle"
     ],
     "language": "python",
     "metadata": {},
     "outputs": [],
     "prompt_number": 22
    },
    {
     "cell_type": "markdown",
     "metadata": {},
     "source": [
      "### Iterations"
     ]
    },
    {
     "cell_type": "code",
     "collapsed": false,
     "input": [
      "params = [1, 5, 10, 20, 50, 100]\n",
      "metrics = [evaluate(train_data, test_data, param, 0.01, 0.0, 'l2', False) for param in params]\n",
      "print params\n",
      "print metrics\n",
      "plot(params, metrics)\n",
      "fig = matplotlib.pyplot.gcf()\n",
      "pyplot.xscale('log')"
     ],
     "language": "python",
     "metadata": {},
     "outputs": [
      {
       "output_type": "stream",
       "stream": "stdout",
       "text": [
        "[1, 5, 10, 20, 50, 100]\n",
        "[2.3532904530306888, 1.6438528499254725, 1.4869656275309227, 1.4149741941240344, 1.4159641262731957, 1.4539667094611681]\n"
       ]
      },
      {
       "metadata": {},
       "output_type": "display_data",
       "png": "[encoded data removed]",
       "text": [
        "<matplotlib.figure.Figure at 0x109e56410>"
       ]
      }
     ],
     "prompt_number": 23
    },
    {
     "cell_type": "markdown",
     "metadata": {},
     "source": [
      "### Step Size"
     ]
    },
    {
     "cell_type": "code",
     "collapsed": false,
     "input": [
      "params = [0.01, 0.025, 0.05, 0.1, 1.0]\n",
      "metrics = [evaluate(train_data, test_data, 10, param, 0.0, 'l2', False) for param in params]\n",
      "print params\n",
      "print metrics\n",
      "plot(params, metrics)\n",
      "fig = matplotlib.pyplot.gcf()\n",
      "pyplot.xscale('log')"
     ],
     "language": "python",
     "metadata": {},
     "outputs": [
      {
       "output_type": "stream",
       "stream": "stdout",
       "text": [
        "[0.01, 0.025, 0.05, 0.1, 1.0]\n",
        "[1.4869656275309227, 1.4189071944747715, 1.5027293911925559, 1.5384660954019971, nan]\n"
       ]
      },
      {
       "metadata": {},
       "output_type": "display_data",
       "png": "[encoded data removed]",
       "text": [
        "<matplotlib.figure.Figure at 0x109bb5e90>"
       ]
      }
     ],
     "prompt_number": 24
    },
    {
     "cell_type": "markdown",
     "metadata": {},
     "source": [
      "### L2 Regularization"
     ]
    },
    {
     "cell_type": "code",
     "collapsed": false,
     "input": [
      "params = [0.0, 0.01, 0.1, 1.0, 5.0, 10.0, 20.0]\n",
      "metrics = [evaluate(train_data, test_data, 10, 0.1, param, 'l2', False) for param in params]\n",
      "print params\n",
      "print metrics\n",
      "plot(params, metrics)\n",
      "fig = matplotlib.pyplot.gcf()\n",
      "pyplot.xscale('log')"
     ],
     "language": "python",
     "metadata": {},
     "outputs": [
      {
       "output_type": "stream",
       "stream": "stdout",
       "text": [
        "[0.0, 0.01, 0.1, 1.0, 5.0, 10.0, 20.0]\n",
        "[1.5384660954019973, 1.5379108106882864, 1.5329809395123755, 1.4900275345312988, 1.4016676336981468, 1.40998359211149, 1.5381771283158705]\n"
       ]
      },
      {
       "metadata": {},
       "output_type": "display_data",
       "png": "[encoded data removed]",
       "text": [
        "<matplotlib.figure.Figure at 0x1095c0410>"
       ]
      }
     ],
     "prompt_number": 25
    },
    {
     "cell_type": "markdown",
     "metadata": {},
     "source": [
      "### L1 Regularization"
     ]
    },
    {
     "cell_type": "code",
     "collapsed": false,
     "input": [
      "params = [0.0, 0.01, 0.1, 1.0, 10.0, 100.0, 1000.0]\n",
      "metrics = [evaluate(train_data, test_data, 10, 0.1, param, 'l1', False) for param in params]\n",
      "print params\n",
      "print metrics\n",
      "plot(params, metrics)\n",
      "fig = matplotlib.pyplot.gcf()\n",
      "pyplot.xscale('log')"
     ],
     "language": "python",
     "metadata": {},
     "outputs": [
      {
       "output_type": "stream",
       "stream": "stdout",
       "text": [
        "[0.0, 0.01, 0.1, 1.0, 10.0, 100.0, 1000.0]\n",
        "[1.5384660954019973, 1.5384518080419873, 1.5383237472930684, 1.5372017600929164, 1.5303809928601677, 1.4352494587433793, 4.7551250073268614]\n"
       ]
      },
      {
       "metadata": {},
       "output_type": "display_data",
       "png": "[encoded data removed]",
       "text": [
        "<matplotlib.figure.Figure at 0x1097ad8d0>"
       ]
      }
     ],
     "prompt_number": 26
    },
    {
     "cell_type": "code",
     "collapsed": false,
     "input": [
      "# Investigate sparsity of L1-regularized solution\n",
      "model_l1 = LinearRegressionWithSGD.train(train_data, 10, 0.1, regParam=1.0, regType='l1', intercept=False)\n",
      "model_l1_10 = LinearRegressionWithSGD.train(train_data, 10, 0.1, regParam=10.0, regType='l1', intercept=False)\n",
      "model_l1_100 = LinearRegressionWithSGD.train(train_data, 10, 0.1, regParam=100.0, regType='l1', intercept=False)\n",
      "print \"L1 (1.0) number of zero weights: \" + str(sum(model_l1.weights.array == 0))\n",
      "print \"L1 (10.0) number of zeros weights: \" + str(sum(model_l1_10.weights.array == 0))\n",
      "print \"L1 (100.0) number of zeros weights: \" + str(sum(model_l1_100.weights.array == 0))"
     ],
     "language": "python",
     "metadata": {},
     "outputs": [
      {
       "output_type": "stream",
       "stream": "stdout",
       "text": [
        "L1 (1.0) number of zero weights: 4\n",
        "L1 (10.0) number of zeros weights: 20\n",
        "L1 (100.0) number of zeros weights: 55\n"
       ]
      }
     ],
     "prompt_number": 27
    },
    {
     "cell_type": "markdown",
     "metadata": {},
     "source": [
      "### Intercept"
     ]
    },
    {
     "cell_type": "code",
     "collapsed": false,
     "input": [
      "params = [False, True]\n",
      "metrics = [evaluate(train_data, test_data, 10, 0.1, 1.0, 'l2', param) for param in params]\n",
      "print params\n",
      "print metrics\n",
      "bar(params, metrics, color='lightblue')\n",
      "fig = matplotlib.pyplot.gcf()"
     ],
     "language": "python",
     "metadata": {},
     "outputs": [
      {
       "output_type": "stream",
       "stream": "stdout",
       "text": [
        "[False, True]\n",
        "[1.4900275345312988, 1.506469812020645]\n"
       ]
      },
      {
       "metadata": {},
       "output_type": "display_data",
       "png": "[encoded data removed]",
       "text": [
        "<matplotlib.figure.Figure at 0x10979e990>"
       ]
      }
     ],
     "prompt_number": 28
    },
    {
     "cell_type": "markdown",
     "metadata": {},
     "source": [
      "## Evaluating the Impact of Different Parameter Settings for Decision Tree Model"
     ]
    },
    {
     "cell_type": "code",
     "collapsed": false,
     "input": [
      "# create a function to evaluate decision tree model\n",
      "def evaluate_dt(train, test, maxDepth, maxBins):\n",
      "    model = DecisionTree.trainRegressor(train, {}, impurity='variance', maxDepth=maxDepth, maxBins=maxBins)\n",
      "    preds = model.predict(test.map(lambda p: p.features))\n",
      "    actual = test.map(lambda p: p.label)\n",
      "    tp = actual.zip(preds)\n",
      "    rmsle = np.sqrt(tp.map(lambda (t, p): squared_log_error(t, p)).mean())\n",
      "    return rmsle"
     ],
     "language": "python",
     "metadata": {},
     "outputs": [],
     "prompt_number": 29
    },
    {
     "cell_type": "markdown",
     "metadata": {},
     "source": [
      "### Tree Depth"
     ]
    },
    {
     "cell_type": "code",
     "collapsed": false,
     "input": [
      "params = [1, 2, 3, 4, 5, 10, 20]\n",
      "metrics = [evaluate_dt(train_data_dt, test_data_dt, param, 32) for param in params]\n",
      "print params\n",
      "print metrics\n",
      "plot(params, metrics)\n",
      "fig = matplotlib.pyplot.gcf()"
     ],
     "language": "python",
     "metadata": {},
     "outputs": [
      {
       "output_type": "stream",
       "stream": "stdout",
       "text": [
        "[1, 2, 3, 4, 5, 10, 20]\n",
        "[1.0280339660196287, 0.92686672078778276, 0.81807794023407532, 0.74060228537329209, 0.63583503599563096, 0.42670792592513562, 0.4583644474027882]\n"
       ]
      },
      {
       "metadata": {},
       "output_type": "display_data",
       "png": "[encoded data removed]",
       "text": [
        "<matplotlib.figure.Figure at 0x109e67650>"
       ]
      }
     ],
     "prompt_number": 30
    },
    {
     "cell_type": "markdown",
     "metadata": {},
     "source": [
      "### Max Bins"
     ]
    },
    {
     "cell_type": "code",
     "collapsed": false,
     "input": [
      "params = [2, 4, 8, 16, 32, 64, 100]\n",
      "metrics = [evaluate_dt(train_data_dt, test_data_dt, 5, param) for param in params]\n",
      "print params\n",
      "print metrics\n",
      "plot(params, metrics)\n",
      "fig = matplotlib.pyplot.gcf()"
     ],
     "language": "python",
     "metadata": {},
     "outputs": [
      {
       "output_type": "stream",
       "stream": "stdout",
       "text": [
        "[2, 4, 8, 16, 32, 64, 100]\n",
        "[1.3069788763726049, 0.81923394899750324, 0.75651792347650992, 0.61793665178800294, 0.63545550484501234, 0.63583503599563096, 0.63583503599563096]\n"
       ]
      },
      {
       "metadata": {},
       "output_type": "display_data",
       "png": "[encoded data removed]",
       "text": [
        "<matplotlib.figure.Figure at 0x10a42fa10>"
       ]
      }
     ],
     "prompt_number": 31
    }
   ],
   "metadata": {}
  }
 ]
}